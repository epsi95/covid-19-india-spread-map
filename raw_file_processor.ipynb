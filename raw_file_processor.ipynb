{
 "cells": [
  {
   "cell_type": "code",
   "execution_count": 1,
   "metadata": {},
   "outputs": [],
   "source": [
    "from IPython.display import clear_output\n",
    "import pandas as pd\n",
    "import numpy as np\n",
    "import requests"
   ]
  },
  {
   "cell_type": "code",
   "execution_count": 2,
   "metadata": {},
   "outputs": [],
   "source": [
    "df = pd.read_csv(\"covid_19_04_04_2020.csv\")"
   ]
  },
  {
   "cell_type": "code",
   "execution_count": 3,
   "metadata": {},
   "outputs": [
    {
     "name": "stdout",
     "output_type": "stream",
     "text": [
      "<class 'pandas.core.frame.DataFrame'>\n",
      "RangeIndex: 4113 entries, 0 to 4112\n",
      "Data columns (total 27 columns):\n",
      "Unnamed: 0                                   4113 non-null int64\n",
      "Patient Number                               3824 non-null float64\n",
      "State Patient Number                         817 non-null object\n",
      "Date Announced                               3490 non-null object\n",
      "Age Bracket                                  798 non-null object\n",
      "Gender                                       1027 non-null object\n",
      "Detected City                                823 non-null object\n",
      "Detected District                            2543 non-null object\n",
      "Detected State                               3490 non-null object\n",
      "State code                                   3490 non-null object\n",
      "Current Status                               3490 non-null object\n",
      "Notes                                        2557 non-null object\n",
      "Contracted from which Patient (Suspected)    918 non-null object\n",
      "Nationality                                  425 non-null object\n",
      "Type of transmission                         1824 non-null object\n",
      "Status Change Date                           3487 non-null object\n",
      "Source_1                                     3297 non-null object\n",
      "Source_2                                     1348 non-null object\n",
      "Source_3                                     270 non-null object\n",
      "Backup Notes                                 360 non-null object\n",
      "Unnamed: 20                                  0 non-null float64\n",
      "Unnamed: 21                                  0 non-null float64\n",
      "Unnamed: 22                                  0 non-null float64\n",
      "Unnamed: 23                                  0 non-null float64\n",
      "Unnamed: 24                                  0 non-null float64\n",
      "Unnamed: 25                                  0 non-null float64\n",
      "Unnamed: 26                                  0 non-null float64\n",
      "dtypes: float64(8), int64(1), object(18)\n",
      "memory usage: 867.7+ KB\n"
     ]
    }
   ],
   "source": [
    "df.info()"
   ]
  },
  {
   "cell_type": "code",
   "execution_count": 3,
   "metadata": {},
   "outputs": [],
   "source": [
    "state_coordinate = pd.read_csv(\"state_lat_lon.csv\")"
   ]
  },
  {
   "cell_type": "raw",
   "metadata": {},
   "source": [
    "Each patient will be defined as follows\n",
    "1. Patient ID (ex: P23)\n",
    "2. State Patient Number\n",
    "3. Date Announced\n",
    "4. Status Change Date\n",
    "5. Age bracket\n",
    "6. Gender\n",
    "7. Current Status (Recovered, Hospitalized, Deceased)\n",
    "8. Nationality\n",
    "9. Type of transfer\n",
    "10. Contact from which patient\n",
    "11.Detected State\n",
    "12. Detected District (if no data is there will be defaulted to \"Detected State\")\n",
    "13. Detected City (if no data is there will be defaulted to \"Detected State\")\n",
    "14. Travelled From which location\n",
    "15. Description"
   ]
  },
  {
   "cell_type": "code",
   "execution_count": 33,
   "metadata": {},
   "outputs": [],
   "source": [
    "filtered_data = []\n",
    "for index, row in df.iterrows():\n",
    "    temp = []\n",
    "    temp.append('P'+str(row['Patient Number'])) #1\n",
    "    temp.append(row['State Patient Number']) #2\n",
    "    temp.append(row['Date Announced']) #3\n",
    "    temp.append(row['Status Change Date']) #4\n",
    "    temp.append(row['Age Bracket']) #5\n",
    "    temp.append(row['Gender']) #6\n",
    "    temp.append(row['Current Status']) #7\n",
    "    temp.append(row['Nationality']) #8\n",
    "    temp.append(row['Type of transmission']) #9\n",
    "    temp.append(row['Contracted from which Patient (Suspected)']) #10\n",
    "    temp.append(row['Detected State']) #11\n",
    "    temp.append(row['Detected District']) #12\n",
    "    temp.append(row['Detected City']) #13\n",
    "    temp.append(get_from_loc(row['Notes'])) #14\n",
    "    temp.append(row['Notes']) #15\n",
    "    filtered_data.append(temp)\n",
    "                "
   ]
  },
  {
   "cell_type": "code",
   "execution_count": 19,
   "metadata": {
    "collapsed": true,
    "jupyter": {
     "outputs_hidden": true
    }
   },
   "outputs": [
    {
     "data": {
      "text/plain": [
       "[['P1.0',\n",
       "  'KL-TS-P1',\n",
       "  '30/01/2020',\n",
       "  '14/02/2020',\n",
       "  '30/01/2020',\n",
       "  'F',\n",
       "  'Recovered',\n",
       "  'India',\n",
       "  'Imported',\n",
       "  nan,\n",
       "  'Kerala',\n",
       "  'Thrissur',\n",
       "  'Thrissur',\n",
       "  'WUHAN',\n",
       "  'Travelled from Wuhan'],\n",
       " ['P2.0',\n",
       "  'KL-AL-P1',\n",
       "  '02/02/2020',\n",
       "  '14/02/2020',\n",
       "  '02/02/2020',\n",
       "  nan,\n",
       "  'Recovered',\n",
       "  'India',\n",
       "  'Imported',\n",
       "  nan,\n",
       "  'Kerala',\n",
       "  'Alappuzha',\n",
       "  'Alappuzha',\n",
       "  'WUHAN',\n",
       "  'Travelled from Wuhan'],\n",
       " ['P3.0',\n",
       "  'KL-KS-P1',\n",
       "  '03/02/2020',\n",
       "  '14/02/2020',\n",
       "  '03/02/2020',\n",
       "  nan,\n",
       "  'Recovered',\n",
       "  'India',\n",
       "  'Imported',\n",
       "  nan,\n",
       "  'Kerala',\n",
       "  'Kasaragod',\n",
       "  'Kasaragod',\n",
       "  'WUHAN',\n",
       "  'Travelled from Wuhan'],\n",
       " ['P4.0',\n",
       "  'DL-P1',\n",
       "  '02/03/2020',\n",
       "  '15/03/2020',\n",
       "  '02/03/2020',\n",
       "  'M',\n",
       "  'Recovered',\n",
       "  'India',\n",
       "  'Imported',\n",
       "  nan,\n",
       "  'Delhi',\n",
       "  'East Delhi',\n",
       "  'East Delhi (Mayur Vihar)',\n",
       "  'AUSTRIA',\n",
       "  'Travelled from Austria, Italy'],\n",
       " ['P5.0',\n",
       "  'TS-P1',\n",
       "  '02/03/2020',\n",
       "  '02/03/2020',\n",
       "  '02/03/2020',\n",
       "  'M',\n",
       "  'Recovered',\n",
       "  'India',\n",
       "  'Imported',\n",
       "  nan,\n",
       "  'Telangana',\n",
       "  'Hyderabad',\n",
       "  'Hyderabad',\n",
       "  'DUBAI',\n",
       "  'Travelled from Dubai to Bangalore on 20th Feb, stayed there for 2 days and took a bus to Hyderabad'],\n",
       " ['P6.0',\n",
       "  nan,\n",
       "  '03/03/2020',\n",
       "  '03/03/2020',\n",
       "  '03/03/2020',\n",
       "  'M',\n",
       "  'Recovered',\n",
       "  'Italy',\n",
       "  'Imported',\n",
       "  nan,\n",
       "  'Rajasthan',\n",
       "  'Jaipur',\n",
       "  'Jaipur',\n",
       "  'ITALY',\n",
       "  'Travelled from Italy'],\n",
       " ['P7.0',\n",
       "  nan,\n",
       "  '04/03/2020',\n",
       "  '29/03/2020',\n",
       "  '04/03/2020',\n",
       "  nan,\n",
       "  'Recovered',\n",
       "  'Italy',\n",
       "  'Imported',\n",
       "  'P6',\n",
       "  'Haryana',\n",
       "  'Gurugram',\n",
       "  'Gurugram',\n",
       "  'ITALY',\n",
       "  'Travelled from Italy'],\n",
       " ['P8.0',\n",
       "  nan,\n",
       "  '04/03/2020',\n",
       "  '29/03/2020',\n",
       "  '04/03/2020',\n",
       "  nan,\n",
       "  'Recovered',\n",
       "  'Italy',\n",
       "  'Imported',\n",
       "  'P6',\n",
       "  'Haryana',\n",
       "  'Gurugram',\n",
       "  'Gurugram',\n",
       "  'ITALY',\n",
       "  'Travelled from Italy'],\n",
       " ['P9.0',\n",
       "  nan,\n",
       "  '04/03/2020',\n",
       "  '29/03/2020',\n",
       "  '04/03/2020',\n",
       "  nan,\n",
       "  'Recovered',\n",
       "  'Italy',\n",
       "  'Imported',\n",
       "  'P6',\n",
       "  'Haryana',\n",
       "  'Gurugram',\n",
       "  'Gurugram',\n",
       "  'ITALY',\n",
       "  'Travelled from Italy'],\n",
       " ['P10.0',\n",
       "  nan,\n",
       "  '04/03/2020',\n",
       "  '29/03/2020',\n",
       "  '04/03/2020',\n",
       "  nan,\n",
       "  'Recovered',\n",
       "  'Italy',\n",
       "  'Imported',\n",
       "  'P6',\n",
       "  'Haryana',\n",
       "  'Gurugram',\n",
       "  'Gurugram',\n",
       "  'ITALY',\n",
       "  'Travelled from Italy']]"
      ]
     },
     "execution_count": 19,
     "metadata": {},
     "output_type": "execute_result"
    }
   ],
   "source": [
    "filtered_data[0:10]"
   ]
  },
  {
   "cell_type": "code",
   "execution_count": 34,
   "metadata": {},
   "outputs": [],
   "source": [
    "df_filtered = pd.DataFrame(filtered_data, columns = ['Patient Number',\n",
    "                                                    'State Patient Number',\n",
    "                                                    'Date Announced',\n",
    "                                                    'Status Change Date',\n",
    "                                                    'Age Bracket',\n",
    "                                                    'Gender',\n",
    "                                                    'Current Status',\n",
    "                                                    'Nationality',\n",
    "                                                    'Type of transmission',\n",
    "                                                    'Contracted from which Patient (Suspected)',\n",
    "                                                    'Detected State',\n",
    "                                                    'Detected District',\n",
    "                                                    'Detected City',\n",
    "                                                    'Travelled From which location',\n",
    "                                                    'Notes'])\n",
    "df_filtered.to_csv('covid_19_04_04_2020_filtered.csv')"
   ]
  },
  {
   "cell_type": "code",
   "execution_count": 15,
   "metadata": {},
   "outputs": [],
   "source": [
    "def get_from_loc(s):\n",
    "    if(pd.isna(s)):\n",
    "        return 'NAN'\n",
    "    import re\n",
    "    pat1 = r'FROM\\s[A-Z]+'\n",
    "    pat2 = r'TO\\s[A-Z]+'\n",
    "    s = s.upper()\n",
    "    f1 = re.search(pat1, s)\n",
    "    f2 = re.search(pat2, s)\n",
    "    r1 = ''\n",
    "    r2 =''\n",
    "    if(f1):\n",
    "        data = (f1.group()).split(' ')[1]\n",
    "        if(len(data) > 1):\n",
    "            r1 = data\n",
    "            return r1\n",
    "    if(f2):\n",
    "        data = (f2.group()).split(' ')[1]\n",
    "        if(len(data) > 1):\n",
    "            r2 = data\n",
    "            return r2"
   ]
  },
  {
   "cell_type": "code",
   "execution_count": 16,
   "metadata": {},
   "outputs": [
    {
     "data": {
      "text/plain": [
       "'ITALY'"
      ]
     },
     "execution_count": 16,
     "metadata": {},
     "output_type": "execute_result"
    }
   ],
   "source": [
    "get_from_loc('Travelled from Italy on March 8')"
   ]
  },
  {
   "cell_type": "code",
   "execution_count": 4,
   "metadata": {},
   "outputs": [],
   "source": [
    "app_id = \"0INBjWlPQChfUSn13p4b\"\n",
    "app_code = \"H9io3_9HVYbAv2nnhndrhQ\"\n",
    "url = \"https://geocoder.api.here.com/6.2/geocode.json?searchtext={}&app_id={}&app_code={}\""
   ]
  },
  {
   "cell_type": "code",
   "execution_count": 5,
   "metadata": {},
   "outputs": [],
   "source": [
    "cities = set(df['Detected City'].to_list())\n",
    "city_to_state_map = {}\n",
    "for each in zip(df['Detected City'].to_list(), df['Detected State'].to_list()):\n",
    "    city_to_state_map[each[0]] = each[1]"
   ]
  },
  {
   "cell_type": "code",
   "execution_count": 6,
   "metadata": {},
   "outputs": [],
   "source": [
    "try:\n",
    "    cities.remove(' ')\n",
    "    cities.remove(np.nan)\n",
    "except:\n",
    "    print(\"nothing to remove\")"
   ]
  },
  {
   "cell_type": "code",
   "execution_count": 7,
   "metadata": {},
   "outputs": [
    {
     "name": "stdout",
     "output_type": "stream",
     "text": [
      "233  of  233\n"
     ]
    }
   ],
   "source": [
    "city_data = {}\n",
    "failed_city = []\n",
    "failed_url = []\n",
    "index = 1\n",
    "for city in cities:\n",
    "    clear_output(wait = True)\n",
    "    print(index, \" of \", len(cities))\n",
    "    index += 1\n",
    "    r = requests.get(url.format(city +\", \"+ city_to_state_map[city] + \", india\", app_id, app_code))\n",
    "    try:\n",
    "        raw_data = r.json()\n",
    "        data = raw_data['Response']['View'][0]['Result'][0]['Location']['DisplayPosition']\n",
    "        city_data[city] = [data['Latitude'], data['Longitude']]\n",
    "    except:\n",
    "        print(r.json())\n",
    "        failed_city.append(city)\n",
    "        failed_url.append(url.format(city +\", \"+ city_to_state_map[city] + \", india\", app_id, app_code))\n",
    "        "
   ]
  },
  {
   "cell_type": "code",
   "execution_count": 22,
   "metadata": {},
   "outputs": [],
   "source": [
    "city_data['Chuchot'] = [39.5976048,63.1020115]\n",
    "city_data['Golekbana'] = [14.9837072,71.8195828]\n",
    "city_data['Ladakh'] = [14.2605361,57.9144399]\n",
    "city_data['Temple Gate'] = [10.4503473,73.7595634]\n",
    "city_data['Chusot'] = [33.799711,77.7491035]\n",
    "city_data['Mumbai Suburb'] = [19.1315563,72.7393767]\n",
    "city_data['Gowribidanur'] = [13.6125592,77.4979894]"
   ]
  },
  {
   "cell_type": "code",
   "execution_count": 258,
   "metadata": {},
   "outputs": [],
   "source": [
    "city_df = pd.DataFrame([[i,city_data[i][0], city_data[i][1]] for i in city_data], columns=['city_name', 'lat', 'lon'])"
   ]
  },
  {
   "cell_type": "code",
   "execution_count": 259,
   "metadata": {},
   "outputs": [],
   "source": [
    "city_df.to_csv(\"city_lat_lon.csv\")"
   ]
  },
  {
   "cell_type": "code",
   "execution_count": null,
   "metadata": {},
   "outputs": [],
   "source": [
    "# now we need to find the places from whiche people travelled from\n"
   ]
  },
  {
   "cell_type": "code",
   "execution_count": 172,
   "metadata": {},
   "outputs": [],
   "source": [
    "s1 = \"Travelled from Wuhan\".upper()\n",
    "s2 = \"Related to a previous patient from Sangli\".upper()\n",
    "s3 = \"Evacuees from Iran (Jaisalmer army base camp)\".upper()\n",
    "s4 = \"Travelled from Sharjah, travelled with another confimed case\".upper()"
   ]
  },
  {
   "cell_type": "code",
   "execution_count": 177,
   "metadata": {},
   "outputs": [
    {
     "name": "stdout",
     "output_type": "stream",
     "text": [
      "FROM SANGLI\n",
      "['FROM']\n"
     ]
    }
   ],
   "source": [
    "pat = r'(FROM)\\s[A-Z]+'\n",
    "r = re.compile(pat)\n",
    "print(re.search(pat, s2).group())\n",
    "print(r.findall(s2))"
   ]
  },
  {
   "cell_type": "code",
   "execution_count": 142,
   "metadata": {},
   "outputs": [],
   "source": [
    "travel_from = df['Notes'].to_list()"
   ]
  },
  {
   "cell_type": "code",
   "execution_count": 183,
   "metadata": {},
   "outputs": [],
   "source": [
    "import re\n",
    "travel_from_country = {}\n",
    "pat1 = r'FROM\\s[A-Z]+'\n",
    "pat2 = r'TO\\s[A-Z]+'\n",
    "for i in travel_from:\n",
    "    if(not pd.isna(i)):\n",
    "        s = i.upper()\n",
    "        f1 = re.search(pat1, s)\n",
    "        f2 = re.search(pat2, s)\n",
    "        if(f1):\n",
    "            data = (f1.group()).split(' ')[1]\n",
    "            if(len(data) > 1):\n",
    "                travel_from_country[data] = f1.group()\n",
    "        if(f2):\n",
    "            data = (f2.group()).split(' ')[1]\n",
    "            if(len(data) > 1):\n",
    "                travel_from_country[data] = f2.group()"
   ]
  },
  {
   "cell_type": "code",
   "execution_count": 247,
   "metadata": {
    "collapsed": true,
    "jupyter": {
     "outputs_hidden": true
    }
   },
   "outputs": [
    {
     "name": "stdout",
     "output_type": "stream",
     "text": [
      "97  of  100\n"
     ]
    },
    {
     "ename": "ConnectionError",
     "evalue": "HTTPSConnectionPool(host='geocoder.api.here.com', port=443): Max retries exceeded with url: /6.2/geocode.json?searchtext=MIDDLEEAST&app_id=0INBjWlPQChfUSn13p4b&app_code=H9io3_9HVYbAv2nnhndrhQ (Caused by NewConnectionError('<urllib3.connection.VerifiedHTTPSConnection object at 0x000001F034BD3B38>: Failed to establish a new connection: [Errno 11001] getaddrinfo failed',))",
     "output_type": "error",
     "traceback": [
      "\u001b[1;31m---------------------------------------------------------------------------\u001b[0m",
      "\u001b[1;31mgaierror\u001b[0m                                  Traceback (most recent call last)",
      "\u001b[1;32mc:\\users\\probh\\appdata\\local\\programs\\python\\python36\\lib\\site-packages\\urllib3\\connection.py\u001b[0m in \u001b[0;36m_new_conn\u001b[1;34m(self)\u001b[0m\n\u001b[0;32m    156\u001b[0m             conn = connection.create_connection(\n\u001b[1;32m--> 157\u001b[1;33m                 \u001b[1;33m(\u001b[0m\u001b[0mself\u001b[0m\u001b[1;33m.\u001b[0m\u001b[0m_dns_host\u001b[0m\u001b[1;33m,\u001b[0m \u001b[0mself\u001b[0m\u001b[1;33m.\u001b[0m\u001b[0mport\u001b[0m\u001b[1;33m)\u001b[0m\u001b[1;33m,\u001b[0m \u001b[0mself\u001b[0m\u001b[1;33m.\u001b[0m\u001b[0mtimeout\u001b[0m\u001b[1;33m,\u001b[0m \u001b[1;33m**\u001b[0m\u001b[0mextra_kw\u001b[0m\u001b[1;33m\u001b[0m\u001b[1;33m\u001b[0m\u001b[0m\n\u001b[0m\u001b[0;32m    158\u001b[0m             )\n",
      "\u001b[1;32mc:\\users\\probh\\appdata\\local\\programs\\python\\python36\\lib\\site-packages\\urllib3\\util\\connection.py\u001b[0m in \u001b[0;36mcreate_connection\u001b[1;34m(address, timeout, source_address, socket_options)\u001b[0m\n\u001b[0;32m     60\u001b[0m \u001b[1;33m\u001b[0m\u001b[0m\n\u001b[1;32m---> 61\u001b[1;33m     \u001b[1;32mfor\u001b[0m \u001b[0mres\u001b[0m \u001b[1;32min\u001b[0m \u001b[0msocket\u001b[0m\u001b[1;33m.\u001b[0m\u001b[0mgetaddrinfo\u001b[0m\u001b[1;33m(\u001b[0m\u001b[0mhost\u001b[0m\u001b[1;33m,\u001b[0m \u001b[0mport\u001b[0m\u001b[1;33m,\u001b[0m \u001b[0mfamily\u001b[0m\u001b[1;33m,\u001b[0m \u001b[0msocket\u001b[0m\u001b[1;33m.\u001b[0m\u001b[0mSOCK_STREAM\u001b[0m\u001b[1;33m)\u001b[0m\u001b[1;33m:\u001b[0m\u001b[1;33m\u001b[0m\u001b[1;33m\u001b[0m\u001b[0m\n\u001b[0m\u001b[0;32m     62\u001b[0m         \u001b[0maf\u001b[0m\u001b[1;33m,\u001b[0m \u001b[0msocktype\u001b[0m\u001b[1;33m,\u001b[0m \u001b[0mproto\u001b[0m\u001b[1;33m,\u001b[0m \u001b[0mcanonname\u001b[0m\u001b[1;33m,\u001b[0m \u001b[0msa\u001b[0m \u001b[1;33m=\u001b[0m \u001b[0mres\u001b[0m\u001b[1;33m\u001b[0m\u001b[1;33m\u001b[0m\u001b[0m\n",
      "\u001b[1;32mc:\\users\\probh\\appdata\\local\\programs\\python\\python36\\lib\\socket.py\u001b[0m in \u001b[0;36mgetaddrinfo\u001b[1;34m(host, port, family, type, proto, flags)\u001b[0m\n\u001b[0;32m    744\u001b[0m     \u001b[0maddrlist\u001b[0m \u001b[1;33m=\u001b[0m \u001b[1;33m[\u001b[0m\u001b[1;33m]\u001b[0m\u001b[1;33m\u001b[0m\u001b[1;33m\u001b[0m\u001b[0m\n\u001b[1;32m--> 745\u001b[1;33m     \u001b[1;32mfor\u001b[0m \u001b[0mres\u001b[0m \u001b[1;32min\u001b[0m \u001b[0m_socket\u001b[0m\u001b[1;33m.\u001b[0m\u001b[0mgetaddrinfo\u001b[0m\u001b[1;33m(\u001b[0m\u001b[0mhost\u001b[0m\u001b[1;33m,\u001b[0m \u001b[0mport\u001b[0m\u001b[1;33m,\u001b[0m \u001b[0mfamily\u001b[0m\u001b[1;33m,\u001b[0m \u001b[0mtype\u001b[0m\u001b[1;33m,\u001b[0m \u001b[0mproto\u001b[0m\u001b[1;33m,\u001b[0m \u001b[0mflags\u001b[0m\u001b[1;33m)\u001b[0m\u001b[1;33m:\u001b[0m\u001b[1;33m\u001b[0m\u001b[1;33m\u001b[0m\u001b[0m\n\u001b[0m\u001b[0;32m    746\u001b[0m         \u001b[0maf\u001b[0m\u001b[1;33m,\u001b[0m \u001b[0msocktype\u001b[0m\u001b[1;33m,\u001b[0m \u001b[0mproto\u001b[0m\u001b[1;33m,\u001b[0m \u001b[0mcanonname\u001b[0m\u001b[1;33m,\u001b[0m \u001b[0msa\u001b[0m \u001b[1;33m=\u001b[0m \u001b[0mres\u001b[0m\u001b[1;33m\u001b[0m\u001b[1;33m\u001b[0m\u001b[0m\n",
      "\u001b[1;31mgaierror\u001b[0m: [Errno 11001] getaddrinfo failed",
      "\nDuring handling of the above exception, another exception occurred:\n",
      "\u001b[1;31mNewConnectionError\u001b[0m                        Traceback (most recent call last)",
      "\u001b[1;32mc:\\users\\probh\\appdata\\local\\programs\\python\\python36\\lib\\site-packages\\urllib3\\connectionpool.py\u001b[0m in \u001b[0;36murlopen\u001b[1;34m(self, method, url, body, headers, retries, redirect, assert_same_host, timeout, pool_timeout, release_conn, chunked, body_pos, **response_kw)\u001b[0m\n\u001b[0;32m    671\u001b[0m                 \u001b[0mheaders\u001b[0m\u001b[1;33m=\u001b[0m\u001b[0mheaders\u001b[0m\u001b[1;33m,\u001b[0m\u001b[1;33m\u001b[0m\u001b[1;33m\u001b[0m\u001b[0m\n\u001b[1;32m--> 672\u001b[1;33m                 \u001b[0mchunked\u001b[0m\u001b[1;33m=\u001b[0m\u001b[0mchunked\u001b[0m\u001b[1;33m,\u001b[0m\u001b[1;33m\u001b[0m\u001b[1;33m\u001b[0m\u001b[0m\n\u001b[0m\u001b[0;32m    673\u001b[0m             )\n",
      "\u001b[1;32mc:\\users\\probh\\appdata\\local\\programs\\python\\python36\\lib\\site-packages\\urllib3\\connectionpool.py\u001b[0m in \u001b[0;36m_make_request\u001b[1;34m(self, conn, method, url, timeout, chunked, **httplib_request_kw)\u001b[0m\n\u001b[0;32m    375\u001b[0m         \u001b[1;32mtry\u001b[0m\u001b[1;33m:\u001b[0m\u001b[1;33m\u001b[0m\u001b[1;33m\u001b[0m\u001b[0m\n\u001b[1;32m--> 376\u001b[1;33m             \u001b[0mself\u001b[0m\u001b[1;33m.\u001b[0m\u001b[0m_validate_conn\u001b[0m\u001b[1;33m(\u001b[0m\u001b[0mconn\u001b[0m\u001b[1;33m)\u001b[0m\u001b[1;33m\u001b[0m\u001b[1;33m\u001b[0m\u001b[0m\n\u001b[0m\u001b[0;32m    377\u001b[0m         \u001b[1;32mexcept\u001b[0m \u001b[1;33m(\u001b[0m\u001b[0mSocketTimeout\u001b[0m\u001b[1;33m,\u001b[0m \u001b[0mBaseSSLError\u001b[0m\u001b[1;33m)\u001b[0m \u001b[1;32mas\u001b[0m \u001b[0me\u001b[0m\u001b[1;33m:\u001b[0m\u001b[1;33m\u001b[0m\u001b[1;33m\u001b[0m\u001b[0m\n",
      "\u001b[1;32mc:\\users\\probh\\appdata\\local\\programs\\python\\python36\\lib\\site-packages\\urllib3\\connectionpool.py\u001b[0m in \u001b[0;36m_validate_conn\u001b[1;34m(self, conn)\u001b[0m\n\u001b[0;32m    993\u001b[0m         \u001b[1;32mif\u001b[0m \u001b[1;32mnot\u001b[0m \u001b[0mgetattr\u001b[0m\u001b[1;33m(\u001b[0m\u001b[0mconn\u001b[0m\u001b[1;33m,\u001b[0m \u001b[1;34m\"sock\"\u001b[0m\u001b[1;33m,\u001b[0m \u001b[1;32mNone\u001b[0m\u001b[1;33m)\u001b[0m\u001b[1;33m:\u001b[0m  \u001b[1;31m# AppEngine might not have  `.sock`\u001b[0m\u001b[1;33m\u001b[0m\u001b[1;33m\u001b[0m\u001b[0m\n\u001b[1;32m--> 994\u001b[1;33m             \u001b[0mconn\u001b[0m\u001b[1;33m.\u001b[0m\u001b[0mconnect\u001b[0m\u001b[1;33m(\u001b[0m\u001b[1;33m)\u001b[0m\u001b[1;33m\u001b[0m\u001b[1;33m\u001b[0m\u001b[0m\n\u001b[0m\u001b[0;32m    995\u001b[0m \u001b[1;33m\u001b[0m\u001b[0m\n",
      "\u001b[1;32mc:\\users\\probh\\appdata\\local\\programs\\python\\python36\\lib\\site-packages\\urllib3\\connection.py\u001b[0m in \u001b[0;36mconnect\u001b[1;34m(self)\u001b[0m\n\u001b[0;32m    333\u001b[0m         \u001b[1;31m# Add certificate verification\u001b[0m\u001b[1;33m\u001b[0m\u001b[1;33m\u001b[0m\u001b[1;33m\u001b[0m\u001b[0m\n\u001b[1;32m--> 334\u001b[1;33m         \u001b[0mconn\u001b[0m \u001b[1;33m=\u001b[0m \u001b[0mself\u001b[0m\u001b[1;33m.\u001b[0m\u001b[0m_new_conn\u001b[0m\u001b[1;33m(\u001b[0m\u001b[1;33m)\u001b[0m\u001b[1;33m\u001b[0m\u001b[1;33m\u001b[0m\u001b[0m\n\u001b[0m\u001b[0;32m    335\u001b[0m         \u001b[0mhostname\u001b[0m \u001b[1;33m=\u001b[0m \u001b[0mself\u001b[0m\u001b[1;33m.\u001b[0m\u001b[0mhost\u001b[0m\u001b[1;33m\u001b[0m\u001b[1;33m\u001b[0m\u001b[0m\n",
      "\u001b[1;32mc:\\users\\probh\\appdata\\local\\programs\\python\\python36\\lib\\site-packages\\urllib3\\connection.py\u001b[0m in \u001b[0;36m_new_conn\u001b[1;34m(self)\u001b[0m\n\u001b[0;32m    168\u001b[0m             raise NewConnectionError(\n\u001b[1;32m--> 169\u001b[1;33m                 \u001b[0mself\u001b[0m\u001b[1;33m,\u001b[0m \u001b[1;34m\"Failed to establish a new connection: %s\"\u001b[0m \u001b[1;33m%\u001b[0m \u001b[0me\u001b[0m\u001b[1;33m\u001b[0m\u001b[1;33m\u001b[0m\u001b[0m\n\u001b[0m\u001b[0;32m    170\u001b[0m             )\n",
      "\u001b[1;31mNewConnectionError\u001b[0m: <urllib3.connection.VerifiedHTTPSConnection object at 0x000001F034BD3B38>: Failed to establish a new connection: [Errno 11001] getaddrinfo failed",
      "\nDuring handling of the above exception, another exception occurred:\n",
      "\u001b[1;31mMaxRetryError\u001b[0m                             Traceback (most recent call last)",
      "\u001b[1;32mc:\\users\\probh\\appdata\\local\\programs\\python\\python36\\lib\\site-packages\\requests\\adapters.py\u001b[0m in \u001b[0;36msend\u001b[1;34m(self, request, stream, timeout, verify, cert, proxies)\u001b[0m\n\u001b[0;32m    448\u001b[0m                     \u001b[0mretries\u001b[0m\u001b[1;33m=\u001b[0m\u001b[0mself\u001b[0m\u001b[1;33m.\u001b[0m\u001b[0mmax_retries\u001b[0m\u001b[1;33m,\u001b[0m\u001b[1;33m\u001b[0m\u001b[1;33m\u001b[0m\u001b[0m\n\u001b[1;32m--> 449\u001b[1;33m                     \u001b[0mtimeout\u001b[0m\u001b[1;33m=\u001b[0m\u001b[0mtimeout\u001b[0m\u001b[1;33m\u001b[0m\u001b[1;33m\u001b[0m\u001b[0m\n\u001b[0m\u001b[0;32m    450\u001b[0m                 )\n",
      "\u001b[1;32mc:\\users\\probh\\appdata\\local\\programs\\python\\python36\\lib\\site-packages\\urllib3\\connectionpool.py\u001b[0m in \u001b[0;36murlopen\u001b[1;34m(self, method, url, body, headers, retries, redirect, assert_same_host, timeout, pool_timeout, release_conn, chunked, body_pos, **response_kw)\u001b[0m\n\u001b[0;32m    719\u001b[0m             retries = retries.increment(\n\u001b[1;32m--> 720\u001b[1;33m                 \u001b[0mmethod\u001b[0m\u001b[1;33m,\u001b[0m \u001b[0murl\u001b[0m\u001b[1;33m,\u001b[0m \u001b[0merror\u001b[0m\u001b[1;33m=\u001b[0m\u001b[0me\u001b[0m\u001b[1;33m,\u001b[0m \u001b[0m_pool\u001b[0m\u001b[1;33m=\u001b[0m\u001b[0mself\u001b[0m\u001b[1;33m,\u001b[0m \u001b[0m_stacktrace\u001b[0m\u001b[1;33m=\u001b[0m\u001b[0msys\u001b[0m\u001b[1;33m.\u001b[0m\u001b[0mexc_info\u001b[0m\u001b[1;33m(\u001b[0m\u001b[1;33m)\u001b[0m\u001b[1;33m[\u001b[0m\u001b[1;36m2\u001b[0m\u001b[1;33m]\u001b[0m\u001b[1;33m\u001b[0m\u001b[1;33m\u001b[0m\u001b[0m\n\u001b[0m\u001b[0;32m    721\u001b[0m             )\n",
      "\u001b[1;32mc:\\users\\probh\\appdata\\local\\programs\\python\\python36\\lib\\site-packages\\urllib3\\util\\retry.py\u001b[0m in \u001b[0;36mincrement\u001b[1;34m(self, method, url, response, error, _pool, _stacktrace)\u001b[0m\n\u001b[0;32m    435\u001b[0m         \u001b[1;32mif\u001b[0m \u001b[0mnew_retry\u001b[0m\u001b[1;33m.\u001b[0m\u001b[0mis_exhausted\u001b[0m\u001b[1;33m(\u001b[0m\u001b[1;33m)\u001b[0m\u001b[1;33m:\u001b[0m\u001b[1;33m\u001b[0m\u001b[1;33m\u001b[0m\u001b[0m\n\u001b[1;32m--> 436\u001b[1;33m             \u001b[1;32mraise\u001b[0m \u001b[0mMaxRetryError\u001b[0m\u001b[1;33m(\u001b[0m\u001b[0m_pool\u001b[0m\u001b[1;33m,\u001b[0m \u001b[0murl\u001b[0m\u001b[1;33m,\u001b[0m \u001b[0merror\u001b[0m \u001b[1;32mor\u001b[0m \u001b[0mResponseError\u001b[0m\u001b[1;33m(\u001b[0m\u001b[0mcause\u001b[0m\u001b[1;33m)\u001b[0m\u001b[1;33m)\u001b[0m\u001b[1;33m\u001b[0m\u001b[1;33m\u001b[0m\u001b[0m\n\u001b[0m\u001b[0;32m    437\u001b[0m \u001b[1;33m\u001b[0m\u001b[0m\n",
      "\u001b[1;31mMaxRetryError\u001b[0m: HTTPSConnectionPool(host='geocoder.api.here.com', port=443): Max retries exceeded with url: /6.2/geocode.json?searchtext=MIDDLEEAST&app_id=0INBjWlPQChfUSn13p4b&app_code=H9io3_9HVYbAv2nnhndrhQ (Caused by NewConnectionError('<urllib3.connection.VerifiedHTTPSConnection object at 0x000001F034BD3B38>: Failed to establish a new connection: [Errno 11001] getaddrinfo failed',))",
      "\nDuring handling of the above exception, another exception occurred:\n",
      "\u001b[1;31mConnectionError\u001b[0m                           Traceback (most recent call last)",
      "\u001b[1;32m<ipython-input-247-b2f9b339ddd4>\u001b[0m in \u001b[0;36m<module>\u001b[1;34m\u001b[0m\n\u001b[0;32m      6\u001b[0m     \u001b[0mprint\u001b[0m\u001b[1;33m(\u001b[0m\u001b[0mindex\u001b[0m\u001b[1;33m,\u001b[0m\u001b[1;34m\" of \"\u001b[0m\u001b[1;33m,\u001b[0m\u001b[0mlen\u001b[0m\u001b[1;33m(\u001b[0m\u001b[0mtravel_from_country\u001b[0m\u001b[1;33m)\u001b[0m\u001b[1;33m)\u001b[0m\u001b[1;33m\u001b[0m\u001b[1;33m\u001b[0m\u001b[0m\n\u001b[0;32m      7\u001b[0m     \u001b[0mindex\u001b[0m \u001b[1;33m+=\u001b[0m \u001b[1;36m1\u001b[0m\u001b[1;33m\u001b[0m\u001b[1;33m\u001b[0m\u001b[0m\n\u001b[1;32m----> 8\u001b[1;33m     \u001b[0mr\u001b[0m \u001b[1;33m=\u001b[0m \u001b[0mrequests\u001b[0m\u001b[1;33m.\u001b[0m\u001b[0mget\u001b[0m\u001b[1;33m(\u001b[0m\u001b[0murl\u001b[0m\u001b[1;33m.\u001b[0m\u001b[0mformat\u001b[0m\u001b[1;33m(\u001b[0m\u001b[0md\u001b[0m\u001b[1;33m,\u001b[0m \u001b[0mapp_id\u001b[0m\u001b[1;33m,\u001b[0m \u001b[0mapp_code\u001b[0m\u001b[1;33m)\u001b[0m\u001b[1;33m)\u001b[0m\u001b[1;33m\u001b[0m\u001b[1;33m\u001b[0m\u001b[0m\n\u001b[0m\u001b[0;32m      9\u001b[0m     \u001b[1;32mtry\u001b[0m\u001b[1;33m:\u001b[0m\u001b[1;33m\u001b[0m\u001b[1;33m\u001b[0m\u001b[0m\n\u001b[0;32m     10\u001b[0m         \u001b[0mraw_data\u001b[0m \u001b[1;33m=\u001b[0m \u001b[0mr\u001b[0m\u001b[1;33m.\u001b[0m\u001b[0mjson\u001b[0m\u001b[1;33m(\u001b[0m\u001b[1;33m)\u001b[0m\u001b[1;33m\u001b[0m\u001b[1;33m\u001b[0m\u001b[0m\n",
      "\u001b[1;32mc:\\users\\probh\\appdata\\local\\programs\\python\\python36\\lib\\site-packages\\requests\\api.py\u001b[0m in \u001b[0;36mget\u001b[1;34m(url, params, **kwargs)\u001b[0m\n\u001b[0;32m     73\u001b[0m \u001b[1;33m\u001b[0m\u001b[0m\n\u001b[0;32m     74\u001b[0m     \u001b[0mkwargs\u001b[0m\u001b[1;33m.\u001b[0m\u001b[0msetdefault\u001b[0m\u001b[1;33m(\u001b[0m\u001b[1;34m'allow_redirects'\u001b[0m\u001b[1;33m,\u001b[0m \u001b[1;32mTrue\u001b[0m\u001b[1;33m)\u001b[0m\u001b[1;33m\u001b[0m\u001b[1;33m\u001b[0m\u001b[0m\n\u001b[1;32m---> 75\u001b[1;33m     \u001b[1;32mreturn\u001b[0m \u001b[0mrequest\u001b[0m\u001b[1;33m(\u001b[0m\u001b[1;34m'get'\u001b[0m\u001b[1;33m,\u001b[0m \u001b[0murl\u001b[0m\u001b[1;33m,\u001b[0m \u001b[0mparams\u001b[0m\u001b[1;33m=\u001b[0m\u001b[0mparams\u001b[0m\u001b[1;33m,\u001b[0m \u001b[1;33m**\u001b[0m\u001b[0mkwargs\u001b[0m\u001b[1;33m)\u001b[0m\u001b[1;33m\u001b[0m\u001b[1;33m\u001b[0m\u001b[0m\n\u001b[0m\u001b[0;32m     76\u001b[0m \u001b[1;33m\u001b[0m\u001b[0m\n\u001b[0;32m     77\u001b[0m \u001b[1;33m\u001b[0m\u001b[0m\n",
      "\u001b[1;32mc:\\users\\probh\\appdata\\local\\programs\\python\\python36\\lib\\site-packages\\requests\\api.py\u001b[0m in \u001b[0;36mrequest\u001b[1;34m(method, url, **kwargs)\u001b[0m\n\u001b[0;32m     58\u001b[0m     \u001b[1;31m# cases, and look like a memory leak in others.\u001b[0m\u001b[1;33m\u001b[0m\u001b[1;33m\u001b[0m\u001b[1;33m\u001b[0m\u001b[0m\n\u001b[0;32m     59\u001b[0m     \u001b[1;32mwith\u001b[0m \u001b[0msessions\u001b[0m\u001b[1;33m.\u001b[0m\u001b[0mSession\u001b[0m\u001b[1;33m(\u001b[0m\u001b[1;33m)\u001b[0m \u001b[1;32mas\u001b[0m \u001b[0msession\u001b[0m\u001b[1;33m:\u001b[0m\u001b[1;33m\u001b[0m\u001b[1;33m\u001b[0m\u001b[0m\n\u001b[1;32m---> 60\u001b[1;33m         \u001b[1;32mreturn\u001b[0m \u001b[0msession\u001b[0m\u001b[1;33m.\u001b[0m\u001b[0mrequest\u001b[0m\u001b[1;33m(\u001b[0m\u001b[0mmethod\u001b[0m\u001b[1;33m=\u001b[0m\u001b[0mmethod\u001b[0m\u001b[1;33m,\u001b[0m \u001b[0murl\u001b[0m\u001b[1;33m=\u001b[0m\u001b[0murl\u001b[0m\u001b[1;33m,\u001b[0m \u001b[1;33m**\u001b[0m\u001b[0mkwargs\u001b[0m\u001b[1;33m)\u001b[0m\u001b[1;33m\u001b[0m\u001b[1;33m\u001b[0m\u001b[0m\n\u001b[0m\u001b[0;32m     61\u001b[0m \u001b[1;33m\u001b[0m\u001b[0m\n\u001b[0;32m     62\u001b[0m \u001b[1;33m\u001b[0m\u001b[0m\n",
      "\u001b[1;32mc:\\users\\probh\\appdata\\local\\programs\\python\\python36\\lib\\site-packages\\requests\\sessions.py\u001b[0m in \u001b[0;36mrequest\u001b[1;34m(self, method, url, params, data, headers, cookies, files, auth, timeout, allow_redirects, proxies, hooks, stream, verify, cert, json)\u001b[0m\n\u001b[0;32m    531\u001b[0m         }\n\u001b[0;32m    532\u001b[0m         \u001b[0msend_kwargs\u001b[0m\u001b[1;33m.\u001b[0m\u001b[0mupdate\u001b[0m\u001b[1;33m(\u001b[0m\u001b[0msettings\u001b[0m\u001b[1;33m)\u001b[0m\u001b[1;33m\u001b[0m\u001b[1;33m\u001b[0m\u001b[0m\n\u001b[1;32m--> 533\u001b[1;33m         \u001b[0mresp\u001b[0m \u001b[1;33m=\u001b[0m \u001b[0mself\u001b[0m\u001b[1;33m.\u001b[0m\u001b[0msend\u001b[0m\u001b[1;33m(\u001b[0m\u001b[0mprep\u001b[0m\u001b[1;33m,\u001b[0m \u001b[1;33m**\u001b[0m\u001b[0msend_kwargs\u001b[0m\u001b[1;33m)\u001b[0m\u001b[1;33m\u001b[0m\u001b[1;33m\u001b[0m\u001b[0m\n\u001b[0m\u001b[0;32m    534\u001b[0m \u001b[1;33m\u001b[0m\u001b[0m\n\u001b[0;32m    535\u001b[0m         \u001b[1;32mreturn\u001b[0m \u001b[0mresp\u001b[0m\u001b[1;33m\u001b[0m\u001b[1;33m\u001b[0m\u001b[0m\n",
      "\u001b[1;32mc:\\users\\probh\\appdata\\local\\programs\\python\\python36\\lib\\site-packages\\requests\\sessions.py\u001b[0m in \u001b[0;36msend\u001b[1;34m(self, request, **kwargs)\u001b[0m\n\u001b[0;32m    644\u001b[0m \u001b[1;33m\u001b[0m\u001b[0m\n\u001b[0;32m    645\u001b[0m         \u001b[1;31m# Send the request\u001b[0m\u001b[1;33m\u001b[0m\u001b[1;33m\u001b[0m\u001b[1;33m\u001b[0m\u001b[0m\n\u001b[1;32m--> 646\u001b[1;33m         \u001b[0mr\u001b[0m \u001b[1;33m=\u001b[0m \u001b[0madapter\u001b[0m\u001b[1;33m.\u001b[0m\u001b[0msend\u001b[0m\u001b[1;33m(\u001b[0m\u001b[0mrequest\u001b[0m\u001b[1;33m,\u001b[0m \u001b[1;33m**\u001b[0m\u001b[0mkwargs\u001b[0m\u001b[1;33m)\u001b[0m\u001b[1;33m\u001b[0m\u001b[1;33m\u001b[0m\u001b[0m\n\u001b[0m\u001b[0;32m    647\u001b[0m \u001b[1;33m\u001b[0m\u001b[0m\n\u001b[0;32m    648\u001b[0m         \u001b[1;31m# Total elapsed time of the request (approximately)\u001b[0m\u001b[1;33m\u001b[0m\u001b[1;33m\u001b[0m\u001b[1;33m\u001b[0m\u001b[0m\n",
      "\u001b[1;32mc:\\users\\probh\\appdata\\local\\programs\\python\\python36\\lib\\site-packages\\requests\\adapters.py\u001b[0m in \u001b[0;36msend\u001b[1;34m(self, request, stream, timeout, verify, cert, proxies)\u001b[0m\n\u001b[0;32m    514\u001b[0m                 \u001b[1;32mraise\u001b[0m \u001b[0mSSLError\u001b[0m\u001b[1;33m(\u001b[0m\u001b[0me\u001b[0m\u001b[1;33m,\u001b[0m \u001b[0mrequest\u001b[0m\u001b[1;33m=\u001b[0m\u001b[0mrequest\u001b[0m\u001b[1;33m)\u001b[0m\u001b[1;33m\u001b[0m\u001b[1;33m\u001b[0m\u001b[0m\n\u001b[0;32m    515\u001b[0m \u001b[1;33m\u001b[0m\u001b[0m\n\u001b[1;32m--> 516\u001b[1;33m             \u001b[1;32mraise\u001b[0m \u001b[0mConnectionError\u001b[0m\u001b[1;33m(\u001b[0m\u001b[0me\u001b[0m\u001b[1;33m,\u001b[0m \u001b[0mrequest\u001b[0m\u001b[1;33m=\u001b[0m\u001b[0mrequest\u001b[0m\u001b[1;33m)\u001b[0m\u001b[1;33m\u001b[0m\u001b[1;33m\u001b[0m\u001b[0m\n\u001b[0m\u001b[0;32m    517\u001b[0m \u001b[1;33m\u001b[0m\u001b[0m\n\u001b[0;32m    518\u001b[0m         \u001b[1;32mexcept\u001b[0m \u001b[0mClosedPoolError\u001b[0m \u001b[1;32mas\u001b[0m \u001b[0me\u001b[0m\u001b[1;33m:\u001b[0m\u001b[1;33m\u001b[0m\u001b[1;33m\u001b[0m\u001b[0m\n",
      "\u001b[1;31mConnectionError\u001b[0m: HTTPSConnectionPool(host='geocoder.api.here.com', port=443): Max retries exceeded with url: /6.2/geocode.json?searchtext=MIDDLEEAST&app_id=0INBjWlPQChfUSn13p4b&app_code=H9io3_9HVYbAv2nnhndrhQ (Caused by NewConnectionError('<urllib3.connection.VerifiedHTTPSConnection object at 0x000001F034BD3B38>: Failed to establish a new connection: [Errno 11001] getaddrinfo failed',))"
     ]
    }
   ],
   "source": [
    "travel_from_lat_lon = {}\n",
    "index = 1\n",
    "for i in travel_from_country:\n",
    "    d = travel_from_country[i].split(' ')[1]\n",
    "    clear_output(wait = True)\n",
    "    print(index,\" of \",len(travel_from_country))\n",
    "    index += 1\n",
    "    r = requests.get(url.format(d, app_id, app_code))\n",
    "    try:\n",
    "        raw_data = r.json()\n",
    "        data = raw_data['Response']['View'][0]['Result'][0]['Location']['DisplayPosition']\n",
    "        travel_from_lat_lon[i] = [data['Latitude'], data['Longitude']]\n",
    "    except Exception as e:\n",
    "        print(e)\n",
    "        travel_from_lat_lon[i] = [np.nan]\n",
    "    "
   ]
  },
  {
   "cell_type": "code",
   "execution_count": 254,
   "metadata": {
    "collapsed": true,
    "jupyter": {
     "outputs_hidden": true
    }
   },
   "outputs": [
    {
     "data": {
      "text/plain": [
       "{'WUHAN': [30.64354, 114.32472],\n",
       " 'AUSTRIA': [48.20263, 16.36843],\n",
       " 'DUBAI': [25.26952, 55.30885],\n",
       " 'BANGALORE': [12.96643, 77.58718],\n",
       " 'ITALY': [41.90323, 12.49566],\n",
       " 'IRAN': [35.68878, 51.41503],\n",
       " 'THAILAND': [13.75337, 100.50483],\n",
       " 'OMAN': [23.61524, 58.59126],\n",
       " 'CHENNAI': [13.08363, 80.28252],\n",
       " 'US': [38.89037, -77.03196],\n",
       " 'MUMBAI': [18.94017, 72.83483],\n",
       " 'PUNE': [18.50422, 73.85302],\n",
       " 'JAPAN': [35.68409, 139.80885],\n",
       " 'GREECE': [37.97614, 23.7364],\n",
       " 'SAUDI': [22.27392, 46.71973],\n",
       " 'QATAR': [25.29425, 51.51967],\n",
       " 'FRANCE': [48.85718, 2.34141],\n",
       " 'UK': [51.50643, -0.12721],\n",
       " 'LONDON': [51.50643, -0.12721],\n",
       " 'PHILIPPINES': [14.58865, 120.98454],\n",
       " 'SPAIN': [40.41956, -3.69196],\n",
       " 'RUSSIA': [55.75697, 37.61502],\n",
       " 'NETHERLANDS': [52.36994, 4.90788],\n",
       " 'KALYAN': [19.2395, 73.12979],\n",
       " 'LISBON': [38.72639, -9.14949],\n",
       " 'SCOTLAND': [55.95438, -3.20144],\n",
       " 'SINGAPORE': [1.29041, 103.85211],\n",
       " 'MALAYSIA': [3.1479, 101.69405],\n",
       " 'UAE': [12.26908, -14.68863],\n",
       " 'HYDERABAD': [17.39488, 78.47077],\n",
       " 'DELHI': [28.6341, 77.2169],\n",
       " 'INDIA': [28.63096, 77.21722],\n",
       " 'INDONESIA': [-6.17148, 106.82649],\n",
       " 'TURKEY': [39.92109, 32.85393],\n",
       " 'DUBLIN': [53.34807, -6.24827],\n",
       " 'GERMANY': [52.51605, 13.37691],\n",
       " 'MECCA': [21.42112, 39.82222],\n",
       " 'MEXICO': [19.43195, -99.13315],\n",
       " 'FINLAND': [60.17116, 24.93266],\n",
       " 'SHARJAH': [25.35287, 55.39203],\n",
       " 'IRELAND': [53.34807, -6.24827],\n",
       " 'PHUKET': [7.89044, 98.38981],\n",
       " 'CONGO': [-7.79102, -36.6586],\n",
       " 'KASTURBA': [20.66778, 73.20369],\n",
       " 'PARIS': [48.85718, 2.34141],\n",
       " 'VARANASI': [25.33289, 82.99655],\n",
       " 'USA': [38.89037, -77.03196],\n",
       " 'EDENBURG': [-29.73603, 25.93475],\n",
       " 'ISTANBUL': [41.06203, 28.98877],\n",
       " 'SWEDEN': [59.33258, 18.06683],\n",
       " 'ABHUDHABI': [24.46918, 54.37174],\n",
       " 'ABU': [24.46918, 54.37174],\n",
       " 'HINDUPUR': [13.8333, 77.49391],\n",
       " 'SWITZERLAND': [46.94843, 7.44046],\n",
       " 'DENMARK': [55.67567, 12.56756],\n",
       " 'CALIFORNIA': [38.57944, -121.49085],\n",
       " 'MADURAI': [9.92417, 78.12416],\n",
       " 'BIRMINGHAM': [52.47892, -1.90592],\n",
       " 'EGYPT': [30.04993, 31.2486],\n",
       " 'GOA': [13.69577, 123.47658],\n",
       " 'RISHIKESH': [30.0864, 78.26658],\n",
       " 'JODHPUR': [26.26691, 73.03053],\n",
       " 'TRINIDAD': [-14.83093, -64.89863],\n",
       " 'INDONESIAN': [0.67369, 127.45045],\n",
       " 'BRAZIL': [-15.77829, -47.92909],\n",
       " 'GUYANA': [6.80859, -58.16125],\n",
       " 'ATHENS': [37.97614, 23.7364],\n",
       " 'WASHINGTON': [38.89037, -77.03196],\n",
       " 'VIJAYAWADA': [16.50222, 80.63966],\n",
       " 'AUSTRALIA': [-35.30655, 149.12656],\n",
       " 'KOLKATA': [22.57054, 88.37124],\n",
       " 'RAMGANJ': [23.10112, 90.85995],\n",
       " 'HIMACHAL': [27.14124, 78.01986],\n",
       " 'KA': [5.86669, -55.25333],\n",
       " 'SRINAGAR': [30.22226, 78.77775],\n",
       " 'STOCKHOLM': [59.33258, 18.06683],\n",
       " 'KERALA': [8.50519, 76.95139],\n",
       " 'COLOMBO': [6.93243, 79.84588],\n",
       " 'SANGLI': [16.85082, 74.58887],\n",
       " 'PUNJAB': [30.90726, 75.84919],\n",
       " 'THIRUVANATHAPURAM': [nan],\n",
       " 'RAJASTHAN': [26.92575, 75.80659],\n",
       " 'ONGLE': [47.98636, -0.01007],\n",
       " 'NEPAL': [27.69329, 85.32227],\n",
       " 'BAHAMAS': [25.07745, -77.34075],\n",
       " 'TRIVANDRUM': [8.50519, 76.95139],\n",
       " 'CANADA': [45.42179, -75.69116],\n",
       " 'BENGALURU': [12.96643, 77.58718],\n",
       " 'THIRUVANANTHAPURAM': [8.50519, 76.95139],\n",
       " 'ASANSOL': [23.68432, 86.97939],\n",
       " 'MAHARASHTRA': [18.94017, 72.83483],\n",
       " 'JHARKHAND': [23.35062, 85.31378],\n",
       " 'MOZAMBIQUE': [-25.97456, 32.57327],\n",
       " 'MH': [7.10941, 171.37138],\n",
       " 'UP': [39.26344, -74.7282],\n",
       " 'BAHARAIN': [25.74544, 88.30044],\n",
       " 'MIDDLE': [25.9409657, 25.7593975],\n",
       " 'UNITED': [54.230956, -13.4363316],\n",
       " 'SRI': [7.8571784, 78.4611594],\n",
       " 'WEST': [13.5571892, -87.967434]}"
      ]
     },
     "execution_count": 254,
     "metadata": {},
     "output_type": "execute_result"
    }
   ],
   "source": [
    "travel_from_lat_lon"
   ]
  },
  {
   "cell_type": "code",
   "execution_count": 255,
   "metadata": {},
   "outputs": [],
   "source": [
    "travel_from_lat_lon['MIDDLE'] = [25.9409657,25.7593975]\n",
    "travel_from_lat_lon['UNITED'] = [54.230956,-13.4363316]\n",
    "travel_from_lat_lon['SRI'] = [7.8571784,78.4611594]\n",
    "travel_from_lat_lon['WEST'] = [13.5571892,-87.967434]\n",
    "travel_from_lat_lon['THIRUVANATHAPURAM'] = [8.5000475,76.7840779]"
   ]
  },
  {
   "cell_type": "code",
   "execution_count": 256,
   "metadata": {},
   "outputs": [],
   "source": [
    "from_place_df = pd.DataFrame([[i, travel_from_country[i]] for i in travel_from_country], columns=['shortname', 'to_search'])\n",
    "from_place_df.to_csv('from_place_data.csv')"
   ]
  },
  {
   "cell_type": "code",
   "execution_count": 257,
   "metadata": {},
   "outputs": [],
   "source": [
    "from_place_df_latlon = pd.DataFrame([[i, travel_from_lat_lon[i][0], travel_from_lat_lon[i][1]] for i in travel_from_lat_lon], columns=['shortname', 'lat', 'lon'])\n",
    "from_place_df_latlon.to_csv('from_place_lat_lon.csv')"
   ]
  },
  {
   "cell_type": "code",
   "execution_count": 246,
   "metadata": {
    "collapsed": true,
    "jupyter": {
     "outputs_hidden": true
    }
   },
   "outputs": [
    {
     "data": {
      "text/plain": [
       "{'WUHAN': 'FROM WUHAN',\n",
       " 'AUSTRIA': 'FROM AUSTRIA',\n",
       " 'DUBAI': 'FROM DUBAI',\n",
       " 'BANGALORE': 'TO BANGALORE',\n",
       " 'ITALY': 'FROM ITALY',\n",
       " 'IRAN': 'FROM IRAN',\n",
       " 'THAILAND': 'FROM THAILAND',\n",
       " 'OMAN': 'FROM OMAN',\n",
       " 'CHENNAI': 'TO CHENNAI',\n",
       " 'US': 'TO US',\n",
       " 'MUMBAI': 'FROM MUMBAI',\n",
       " 'PUNE': 'TO PUNE',\n",
       " 'JAPAN': 'FROM JAPAN',\n",
       " 'GREECE': 'FROM GREECE',\n",
       " 'SAUDI': 'FROM SAUDI',\n",
       " 'QATAR': 'FROM QATAR',\n",
       " 'FRANCE': 'FROM FRANCE',\n",
       " 'UK': 'FROM UK',\n",
       " 'LONDON': 'FROM LONDON',\n",
       " 'PHILIPPINES': 'FROM PHILIPPINES',\n",
       " 'SPAIN': 'TO SPAIN',\n",
       " 'RUSSIA': 'FROM RUSSIA',\n",
       " 'NETHERLANDS': 'FROM NETHERLANDS',\n",
       " 'KALYAN': 'FROM KALYAN',\n",
       " 'LISBON': 'TO LISBON',\n",
       " 'SCOTLAND': 'FROM SCOTLAND',\n",
       " 'SINGAPORE': 'FROM SINGAPORE',\n",
       " 'MALAYSIA': 'FROM MALAYSIA',\n",
       " 'UAE': 'FROM UAE',\n",
       " 'HYDERABAD': 'FROM HYDERABAD',\n",
       " 'DELHI': 'TO DELHI',\n",
       " 'INDIA': 'TO INDIA',\n",
       " 'INDONESIA': 'TO INDONESIA',\n",
       " 'TURKEY': 'FROM TURKEY',\n",
       " 'DUBLIN': 'FROM DUBLIN',\n",
       " 'GERMANY': 'TO GERMANY',\n",
       " 'MECCA': 'FROM MECCA',\n",
       " 'MEXICO': 'FROM MEXICO',\n",
       " 'FINLAND': 'FROM FINLAND',\n",
       " 'SHARJAH': 'FROM SHARJAH',\n",
       " 'IRELAND': 'FROM IRELAND',\n",
       " 'PHUKET': 'FROM PHUKET',\n",
       " 'CONGO': 'FROM CONGO',\n",
       " 'KASTURBA': 'TO KASTURBA',\n",
       " 'PARIS': 'TO PARIS',\n",
       " 'VARANASI': 'TO VARANASI',\n",
       " 'USA': 'FROM USA',\n",
       " 'EDENBURG': 'FROM EDENBURG',\n",
       " 'ISTANBUL': 'FROM ISTANBUL',\n",
       " 'SWEDEN': 'FROM SWEDEN',\n",
       " 'ABHUDHABI': 'FROM ABHUDHABI',\n",
       " 'ABU': 'FROM ABUDHABI',\n",
       " 'HINDUPUR': 'TO HINDUPUR',\n",
       " 'SWITZERLAND': 'FROM SWITZERLAND',\n",
       " 'DENMARK': 'FROM DENMARK',\n",
       " 'CALIFORNIA': 'FROM CALIFORNIA',\n",
       " 'MADURAI': 'TO MADURAI',\n",
       " 'BIRMINGHAM': 'FROM BIRMINGHAM',\n",
       " 'EGYPT': 'FROM EGYPT',\n",
       " 'GOA': 'TO GOA',\n",
       " 'RISHIKESH': 'FROM RISHIKESH',\n",
       " 'JODHPUR': 'TO JODHPUR',\n",
       " 'TRINIDAD': 'FROM TRINIDAD',\n",
       " 'INDONESIAN': 'TO INDONESIAN',\n",
       " 'BRAZIL': 'TO BRAZIL',\n",
       " 'GUYANA': 'TO GUYANA',\n",
       " 'ATHENS': 'TO ATHENS',\n",
       " 'WASHINGTON': 'FROM WASHINGTON',\n",
       " 'VIJAYAWADA': 'TO VIJAYAWADA',\n",
       " 'AUSTRALIA': 'TO AUSTRALIA',\n",
       " 'KOLKATA': 'FROM KOLKATA',\n",
       " 'RAMGANJ': 'FROM RAMGANJ',\n",
       " 'HIMACHAL': 'TO HIMACHAL',\n",
       " 'KA': 'FROM KA',\n",
       " 'SRINAGAR': 'FROM SRINAGAR',\n",
       " 'STOCKHOLM': 'FROM STOCKHOLM',\n",
       " 'KERALA': 'TO KERALA',\n",
       " 'COLOMBO': 'FROM COLOMBO',\n",
       " 'SANGLI': 'FROM SANGLI',\n",
       " 'PUNJAB': 'FROM PUNJAB',\n",
       " 'THIRUVANATHAPURAM': 'TO THIRUVANATHAPURAM',\n",
       " 'RAJASTHAN': 'FROM RAJASTHAN',\n",
       " 'ONGLE': 'FROM ONGLE',\n",
       " 'NEPAL': 'TO NEPAL',\n",
       " 'BAHAMAS': 'FROM BAHAMAS',\n",
       " 'TRIVANDRUM': 'FROM TRIVANDRUM',\n",
       " 'CANADA': 'FROM CANADA',\n",
       " 'BENGALURU': 'FROM BENGALURU',\n",
       " 'THIRUVANANTHAPURAM': 'FROM THIRUVANANTHAPURAM',\n",
       " 'ASANSOL': 'FROM ASANSOL',\n",
       " 'MAHARASHTRA': 'FROM MAHARASHTRA',\n",
       " 'JHARKHAND': 'FROM JHARKHAND',\n",
       " 'MOZAMBIQUE': 'TO MOZAMBIQUE',\n",
       " 'MH': 'TO MH',\n",
       " 'UP': 'TO UP',\n",
       " 'BAHARAIN': 'FROM BAHARAIN',\n",
       " 'MIDDLE': 'FROM MIDDLEEAST',\n",
       " 'UNITED': 'FROM UNITEDKINGDOM',\n",
       " 'SRI': 'FROM SRILANKA',\n",
       " 'WEST': 'FROM WESTINDIES'}"
      ]
     },
     "execution_count": 246,
     "metadata": {},
     "output_type": "execute_result"
    }
   ],
   "source": [
    "travel_from_country"
   ]
  },
  {
   "cell_type": "code",
   "execution_count": null,
   "metadata": {},
   "outputs": [],
   "source": []
  }
 ],
 "metadata": {
  "kernelspec": {
   "display_name": "Python 3",
   "language": "python",
   "name": "python3"
  },
  "language_info": {
   "codemirror_mode": {
    "name": "ipython",
    "version": 3
   },
   "file_extension": ".py",
   "mimetype": "text/x-python",
   "name": "python",
   "nbconvert_exporter": "python",
   "pygments_lexer": "ipython3",
   "version": "3.6.8"
  }
 },
 "nbformat": 4,
 "nbformat_minor": 4
}
