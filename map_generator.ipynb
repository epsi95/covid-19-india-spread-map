{
 "cells": [
  {
   "cell_type": "code",
   "execution_count": 1,
   "metadata": {},
   "outputs": [],
   "source": [
    "# code written and maintained by Probhakar, 5th April, 2020"
   ]
  },
  {
   "cell_type": "code",
   "execution_count": 12,
   "metadata": {},
   "outputs": [],
   "source": [
    "# importing required libraries\n",
    "import random\n",
    "import math\n",
    "from collections import namedtuple\n",
    "import numpy as np\n",
    "import folium\n",
    "from folium.plugins import MarkerCluster\n",
    "import pandas as pd\n",
    "from jinja2 import Template\n",
    "import re"
   ]
  },
  {
   "cell_type": "code",
   "execution_count": 57,
   "metadata": {},
   "outputs": [],
   "source": [
    "# initializing folium map and marker cluster\n",
    "m = folium.Map(location=[20.5937, 78.9629], zoom_start = 5)\n",
    "mc = MarkerCluster()"
   ]
  },
  {
   "cell_type": "code",
   "execution_count": 102,
   "metadata": {
    "collapsed": true,
    "jupyter": {
     "outputs_hidden": true
    }
   },
   "outputs": [
    {
     "data": {
      "text/html": [
       "<div style=\"width:100%;\"><div style=\"position:relative;width:100%;height:0;padding-bottom:60%;\"><iframe src=\"data:text/html;charset=utf-8;base64,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\" style=\"position:absolute;width:100%;height:100%;left:0;top:0;border:none !important;\" allowfullscreen webkitallowfullscreen mozallowfullscreen></iframe></div></div>"
      ],
      "text/plain": [
       "<folium.folium.Map at 0x1d22f78a7f0>"
      ]
     },
     "execution_count": 102,
     "metadata": {},
     "output_type": "execute_result"
    }
   ],
   "source": [
    "m"
   ]
  },
  {
   "cell_type": "code",
   "execution_count": 3,
   "metadata": {},
   "outputs": [],
   "source": [
    "# getting all location data\n",
    "df1 = pd.read_csv('from_place_lat_lon.csv')\n",
    "df2 = pd.read_csv('state_lat_lon.csv')\n",
    "df3 = pd.read_csv('city_lat_lon.csv')"
   ]
  },
  {
   "cell_type": "code",
   "execution_count": 70,
   "metadata": {
    "collapsed": true,
    "jupyter": {
     "outputs_hidden": true
    }
   },
   "outputs": [
    {
     "name": "stdout",
     "output_type": "stream",
     "text": [
      "<class 'pandas.core.frame.DataFrame'>\n",
      "RangeIndex: 100 entries, 0 to 99\n",
      "Data columns (total 4 columns):\n",
      "Unnamed: 0    100 non-null int64\n",
      "shortname     100 non-null object\n",
      "lat           100 non-null float64\n",
      "lon           100 non-null float64\n",
      "dtypes: float64(2), int64(1), object(1)\n",
      "memory usage: 3.2+ KB\n",
      "None\n",
      "<class 'pandas.core.frame.DataFrame'>\n",
      "RangeIndex: 36 entries, 0 to 35\n",
      "Data columns (total 5 columns):\n",
      "States                    36 non-null object\n",
      "Abbreviation              36 non-null object\n",
      "Alternate Abbreviation    36 non-null object\n",
      "Latitude                  36 non-null float64\n",
      "Longitude                 36 non-null float64\n",
      "dtypes: float64(2), object(3)\n",
      "memory usage: 1.5+ KB\n",
      "None\n",
      "<class 'pandas.core.frame.DataFrame'>\n",
      "RangeIndex: 233 entries, 0 to 232\n",
      "Data columns (total 4 columns):\n",
      "Unnamed: 0    233 non-null int64\n",
      "city_name     233 non-null object\n",
      "lat           233 non-null float64\n",
      "lon           233 non-null float64\n",
      "dtypes: float64(2), int64(1), object(1)\n",
      "memory usage: 7.4+ KB\n",
      "None\n"
     ]
    }
   ],
   "source": [
    "print(df1.info())\n",
    "print(df2.info())\n",
    "print(df3.info())"
   ]
  },
  {
   "cell_type": "code",
   "execution_count": 4,
   "metadata": {},
   "outputs": [],
   "source": [
    "location_data_pool = {} # dict to keep all latitude, longitude data\n",
    "for index, row in df1.iterrows():\n",
    "    location_data_pool[row['shortname'].upper()] = [row['lat'], row['lon']]\n",
    "    \n",
    "for index, row in df2.iterrows():\n",
    "    location_data_pool[row['States'].upper()] = [row['Latitude'], row['Longitude']]\n",
    "    \n",
    "for index, row in df3.iterrows():\n",
    "    location_data_pool[row['city_name'].upper()] = [row['lat'], row['lon']]"
   ]
  },
  {
   "cell_type": "code",
   "execution_count": 5,
   "metadata": {},
   "outputs": [],
   "source": [
    "# importing main processed file\n",
    "df = pd.read_csv('covid_19_04_04_2020_filtered.csv')"
   ]
  },
  {
   "cell_type": "code",
   "execution_count": 26,
   "metadata": {},
   "outputs": [
    {
     "name": "stdout",
     "output_type": "stream",
     "text": [
      "<class 'pandas.core.frame.DataFrame'>\n",
      "RangeIndex: 4113 entries, 0 to 4112\n",
      "Data columns (total 16 columns):\n",
      "Unnamed: 0                                   4113 non-null int64\n",
      "Patient Number                               4113 non-null object\n",
      "State Patient Number                         817 non-null object\n",
      "Date Announced                               3490 non-null object\n",
      "Status Change Date                           3487 non-null object\n",
      "Age Bracket                                  798 non-null object\n",
      "Gender                                       1027 non-null object\n",
      "Current Status                               3490 non-null object\n",
      "Nationality                                  425 non-null object\n",
      "Type of transmission                         1824 non-null object\n",
      "Contracted from which Patient (Suspected)    918 non-null object\n",
      "Detected State                               3490 non-null object\n",
      "Detected District                            2543 non-null object\n",
      "Detected City                                823 non-null object\n",
      "Travelled From which location                2199 non-null object\n",
      "Notes                                        2557 non-null object\n",
      "dtypes: int64(1), object(15)\n",
      "memory usage: 514.2+ KB\n"
     ]
    }
   ],
   "source": [
    "df.info() # observer the csv file"
   ]
  },
  {
   "cell_type": "code",
   "execution_count": 9,
   "metadata": {
    "jupyter": {
     "source_hidden": true
    }
   },
   "outputs": [],
   "source": [
    "# template for marker popup\n",
    "popup = Template(\"\"\"<style type=\"text/css\">\n",
    ".tg  {border-collapse:collapse;border-spacing:0;width:500px}\n",
    ".tg td{font-family:Arial, sans-serif;font-size:14px;padding:10px 5px;border-style:solid;border-width:1px;overflow:hidden;word-break:normal;border-color:black;}\n",
    ".tg th{font-family:Arial, sans-serif;font-size:14px;font-weight:normal;padding:10px 5px;border-style:solid;border-width:1px;overflow:hidden;word-break:normal;border-color:black;}\n",
    ".tg .tg-1wig{font-weight:bold;text-align:left;vertical-align:top}\n",
    ".tg .tg-zm03{color:#00009b;border-color:#333333;text-align:left;vertical-align:top}\n",
    ".tg .tg-0pky{border-color:inherit;text-align:left;vertical-align:top}\n",
    ".tg .tg-fymr{font-weight:bold;border-color:inherit;text-align:left;vertical-align:top}\n",
    ".tg .tg-0lax{text-align:left;vertical-align:top}\n",
    "</style>\n",
    "<table class=\"tg\">\n",
    "  <tr>\n",
    "    <th class=\"tg-0pky\"><span style=\"font-weight:bold\">Patient Number</span></th>\n",
    "    <th class=\"tg-zm03\">{{data[0]}}</th>\n",
    "  </tr>\n",
    "  <tr>\n",
    "    <td class=\"tg-fymr\">State Patient Number</td>\n",
    "    <td class=\"tg-0pky\">{{data[1]}}</td>\n",
    "  </tr>\n",
    "  <tr>\n",
    "    <td class=\"tg-fymr\">Date Announced</td>\n",
    "    <td class=\"tg-0pky\">{{data[2]}}</td>\n",
    "  </tr>\n",
    "  <tr>\n",
    "    <td class=\"tg-1wig\">Status Change Date</td>\n",
    "    <td class=\"tg-0lax\">{{data[3]}}</td>\n",
    "  </tr>\n",
    "  <tr>\n",
    "    <td class=\"tg-1wig\">Age Bracket</td>\n",
    "    <td class=\"tg-0lax\">{{data[4]}}</td>\n",
    "  </tr>\n",
    "  <tr>\n",
    "    <td class=\"tg-1wig\">Gender</td>\n",
    "    <td class=\"tg-0lax\">{{data[5]}}</td>\n",
    "  </tr>\n",
    "  <tr>\n",
    "    <td class=\"tg-1wig\">Current Status</td>\n",
    "    <td class=\"tg-0lax\">{{data[6]}}</td>\n",
    "  </tr>\n",
    "  <tr>\n",
    "    <td class=\"tg-1wig\">Nationality</td>\n",
    "    <td class=\"tg-0lax\">{{data[7]}}</td>\n",
    "  </tr>\n",
    "  <tr>\n",
    "    <td class=\"tg-1wig\">Type of transmission</td>\n",
    "    <td class=\"tg-0lax\">{{data[8]}}</td>\n",
    "  </tr>\n",
    "  <tr>\n",
    "    <td class=\"tg-1wig\">Contracted from which Patient (Suspected)</td>\n",
    "    <td class=\"tg-0lax\">{{data[9]}}</td>\n",
    "  </tr>\n",
    "  <tr>\n",
    "    <td class=\"tg-1wig\">Detected State</td>\n",
    "    <td class=\"tg-0lax\">{{data[10]}}</td>\n",
    "  </tr>\n",
    "  <tr>\n",
    "    <td class=\"tg-1wig\">Detected District</td>\n",
    "    <td class=\"tg-0lax\">{{data[11]}}</td>\n",
    "  </tr>\n",
    "  <tr>\n",
    "    <td class=\"tg-1wig\">Detected City</td>\n",
    "    <td class=\"tg-0lax\">{{data[12]}}</td>\n",
    "  </tr>\n",
    "  <tr>\n",
    "    <td class=\"tg-1wig\">Notes</td>\n",
    "    <td class=\"tg-0lax\">{{data[13]}}</td>\n",
    "  </tr>\n",
    "</table>\"\"\")"
   ]
  },
  {
   "cell_type": "code",
   "execution_count": 6,
   "metadata": {},
   "outputs": [],
   "source": [
    "# defining method to get siightly deviated lat lon\n",
    "def get_new_lat_lon(latitude, longitude):\n",
    "    import random\n",
    "    import math\n",
    "    deviation1 = random.randint(0,200)\n",
    "    deviation2 = random.randint(0,200)\n",
    "    #print(deviation)\n",
    "    earth = 6378.137  #radius of the earth in kilometer\n",
    "    pi = math.pi\n",
    "    m = (1 / ((2 * pi / 360) * earth)) / 1000;  #1 meter in degree\n",
    "    new_latitude = latitude + (deviation1 * m)\n",
    "    \n",
    "    cos = math.cos\n",
    "    m = (1 / ((2 * pi / 360) * earth)) / 1000;  #1 meter in degree\n",
    "    new_longitude = longitude + (deviation2 * m) / cos(latitude * (pi / 180));\n",
    "    \n",
    "    return((new_latitude, new_longitude))"
   ]
  },
  {
   "cell_type": "code",
   "execution_count": 7,
   "metadata": {},
   "outputs": [],
   "source": [
    "# method to get the location co-ordinate\n",
    "def get_location(row):\n",
    "    try:\n",
    "        if(not pd.isna(row['Detected City'])):\n",
    "            lat = location_data_pool[row['Detected City'].upper()][0]\n",
    "            lon = location_data_pool[row['Detected City'].upper()][1]\n",
    "            return(get_new_lat_lon(lat, lon))\n",
    "        else:\n",
    "            lat = location_data_pool[row['Detected State'].upper()][0]\n",
    "            lon = location_data_pool[row['Detected State'].upper()][1]\n",
    "            return(get_new_lat_lon(lat, lon))\n",
    "    except:\n",
    "        lat = location_data_pool[row['Detected State'].upper()][0]\n",
    "        lon = location_data_pool[row['Detected State'].upper()][1]\n",
    "        return(get_new_lat_lon(lat, lon))"
   ]
  },
  {
   "cell_type": "code",
   "execution_count": 22,
   "metadata": {},
   "outputs": [],
   "source": [
    "def get_bearing(p1, p2):\n",
    "    \n",
    "    '''\n",
    "    Returns compass bearing from p1 to p2\n",
    "    \n",
    "    Parameters\n",
    "    p1 : namedtuple with lat lon\n",
    "    p2 : namedtuple with lat lon\n",
    "    \n",
    "    Return\n",
    "    compass bearing of type float\n",
    "    \n",
    "    Notes\n",
    "    Based on https://gist.github.com/jeromer/2005586\n",
    "    '''\n",
    "    \n",
    "    long_diff = np.radians(p2.lon - p1.lon)\n",
    "    \n",
    "    lat1 = np.radians(p1.lat)\n",
    "    lat2 = np.radians(p2.lat)\n",
    "    \n",
    "    x = np.sin(long_diff) * np.cos(lat2)\n",
    "    y = (np.cos(lat1) * np.sin(lat2) \n",
    "        - (np.sin(lat1) * np.cos(lat2) \n",
    "        * np.cos(long_diff)))\n",
    "\n",
    "    bearing = np.degrees(np.arctan2(x, y))\n",
    "    \n",
    "    # adjusting for compass bearing\n",
    "    if bearing < 0:\n",
    "        return bearing + 360\n",
    "    return bearing\n",
    "def get_rotation(locations):\n",
    "    Point = namedtuple('Point', field_names=['lat', 'lon'])\n",
    "    \n",
    "    # creating point from our Point named tuple\n",
    "    p1 = Point(locations[0][0], locations[0][1])\n",
    "    p2 = Point(locations[1][0], locations[1][1])\n",
    "    \n",
    "    # getting the rotation needed for our marker.  \n",
    "    # Subtracting 90 to account for the marker's orientation\n",
    "    # of due East(get_bearing returns North)\n",
    "    rotation = get_bearing(p1, p2) - 90\n",
    "    return(rotation)"
   ]
  },
  {
   "cell_type": "code",
   "execution_count": 58,
   "metadata": {},
   "outputs": [],
   "source": [
    "# Step-1: will add each patiend with required details to marker cluster\n",
    "# patient database\n",
    "patient = {} # patient_id : lat,lon\n",
    "\n",
    "for index, row in df.iterrows():\n",
    "    if(not pd.isna(row['Detected State'])):\n",
    "        pn = str(row['Patient Number'].split('.')[0])# Patient Number\n",
    "        stpn = str('no data' if(pd.isna(row['State Patient Number'])) else row['State Patient Number'])#State Patient Number\n",
    "        da = str('no data' if(pd.isna(row['Date Announced'])) else row['Date Announced'])# Date Announced\n",
    "        scd = str('no data' if(pd.isna(row['Status Change Date'])) else row['Status Change Date'])# Status Change Date\n",
    "        ag = str('no data' if(pd.isna(row['Age Bracket'])) else row['Age Bracket'])# Age Bracket\n",
    "        gd = str('no data' if(pd.isna(row['Gender'])) else row['Gender'])# Gender\n",
    "        cs = str('no data' if(pd.isna(row['Current Status'])) else row['Current Status'])# Current Status\n",
    "        nlt = str('no data' if(pd.isna(row['Nationality'])) else row['Nationality'])# Nationality\n",
    "        tt = str('no data' if(pd.isna(row['Type of transmission'])) else row['Type of transmission'])# Type of transmission\n",
    "        cp = str('no data' if(pd.isna(row['Contracted from which Patient (Suspected)'])) else row['Contracted from which Patient (Suspected)'])# Contracted from which Patient (Suspected)\n",
    "        ds = str('no data' if(pd.isna(row['Detected State'])) else row['Detected State'])# Detected State\n",
    "        dd = str('no data' if(pd.isna(row['Detected District'])) else row['Detected District'])# Detected District\n",
    "        dc = str('no data' if(pd.isna(row['Detected City'])) else row['Detected City'])# Detected City\n",
    "        nt = str('no data' if(pd.isna(row['Notes'])) else row['Notes'])# Notes\n",
    "        pptext = popup.render(data = [pn,stpn,da,scd,ag,gd,cs,nlt,tt,cp,ds,dd,dc,nt])\n",
    "        location = get_location(row) # (lat,lon)\n",
    "        patient[pn] = location\n",
    "        # check if hospitalized, make the color red\n",
    "        if(row['Current Status'].upper() == 'HOSPITALIZED'):\n",
    "            mc.add_child(folium.CircleMarker(\n",
    "            location=location,\n",
    "            radius=15,\n",
    "            tooltip = pn,\n",
    "            popup=pptext,\n",
    "            color='#ff3300',\n",
    "            fill=True,\n",
    "            fill_color='#ff3300'))\n",
    "        # check if decesed, make the color gray\n",
    "        elif(row['Current Status'].upper() == 'DECEASED'):\n",
    "            mc.add_child(folium.CircleMarker(\n",
    "            location=location,\n",
    "            radius=15,\n",
    "            tooltip = pn,\n",
    "            popup=pptext,\n",
    "            color='#999966',\n",
    "            fill=True,\n",
    "            fill_color='#999966'))\n",
    "        # check if recovered, make the color green\n",
    "        elif(row['Current Status'].upper() == 'RECOVERED'):\n",
    "            mc.add_child(folium.CircleMarker(\n",
    "            location=location,\n",
    "            radius=15,\n",
    "            tooltip = pn,\n",
    "            popup=pptext,\n",
    "            color='#009900',\n",
    "            fill=True,\n",
    "            fill_color='#009900'))\n",
    "\n",
    "#finally adding mc to map\n",
    "m = m.add_child(mc)"
   ]
  },
  {
   "cell_type": "code",
   "execution_count": 59,
   "metadata": {},
   "outputs": [],
   "source": [
    "# individual point plotted completed, now we will plot the transmission of disease\n",
    "pat = r'P[0-9]+'\n",
    "for index, row in df.iterrows():\n",
    "    pn = str(row['Patient Number'].split('.')[0])\n",
    "    if(not pd.isna(row['Contracted from which Patient (Suspected)'])):\n",
    "        disease_from = re.findall(pat, row['Contracted from which Patient (Suspected)'])\n",
    "        if(len(disease_from) > 0):\n",
    "            for each in disease_from:\n",
    "                folium.PolyLine(locations=[list(patient[pn]), list(patient[each])], color='blue', tooltip = each + ' to ' + pn).add_to(m)\n",
    "                rotation = get_rotation(locations=[list(patient[each]), list(patient[pn])])\n",
    "                folium.RegularPolygonMarker(location=patient[pn], color = 'blue', fill_color='blue', number_of_sides=3, radius=10, rotation=rotation).add_to(m)\n",
    "                \n",
    "                "
   ]
  },
  {
   "cell_type": "code",
   "execution_count": 61,
   "metadata": {},
   "outputs": [],
   "source": [
    "# now at last we need to put travel history\n",
    "for index, row in df.iterrows():\n",
    "    pn = str(row['Patient Number'].split('.')[0])\n",
    "    if(not pd.isna(row['Travelled From which location'])):\n",
    "        try:\n",
    "            from_cordinate = location_data_pool[row['Travelled From which location']] # [lat,lon]\n",
    "            folium.PolyLine(locations=[list(patient[pn]), from_cordinate], color='#a232a8', tooltip = 'travel from '+row['Travelled From which location'],opacity=0.5).add_to(m)\n",
    "            rotation = get_rotation(locations=[from_cordinate, list(patient[pn])])\n",
    "            folium.RegularPolygonMarker(location=patient[pn], color = '#a232a8', fill_color='#a232a8', number_of_sides=3, radius=10, rotation=rotation).add_to(m)\n",
    "        except Exception as e:\n",
    "            #print(e)\n",
    "            pass\n",
    "            "
   ]
  },
  {
   "cell_type": "code",
   "execution_count": 60,
   "metadata": {},
   "outputs": [],
   "source": [
    "m.save('user_transmission_travel_from.html')"
   ]
  },
  {
   "cell_type": "code",
   "execution_count": null,
   "metadata": {},
   "outputs": [],
   "source": []
  }
 ],
 "metadata": {
  "kernelspec": {
   "display_name": "Python 3",
   "language": "python",
   "name": "python3"
  },
  "language_info": {
   "codemirror_mode": {
    "name": "ipython",
    "version": 3
   },
   "file_extension": ".py",
   "mimetype": "text/x-python",
   "name": "python",
   "nbconvert_exporter": "python",
   "pygments_lexer": "ipython3",
   "version": "3.6.8"
  }
 },
 "nbformat": 4,
 "nbformat_minor": 4
}
